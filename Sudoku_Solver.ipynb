{
 "metadata": {
  "language_info": {
   "codemirror_mode": {
    "name": "ipython",
    "version": 3
   },
   "file_extension": ".py",
   "mimetype": "text/x-python",
   "name": "python",
   "nbconvert_exporter": "python",
   "pygments_lexer": "ipython3",
   "version": 3
  },
  "orig_nbformat": 2,
  "kernelspec": {
   "name": "python_defaultSpec_1596443249390",
   "display_name": "Python 3.6.4 64-bit ('base': conda)"
  }
 },
 "nbformat": 4,
 "nbformat_minor": 2,
 "cells": [
  {
   "cell_type": "code",
   "execution_count": 2,
   "metadata": {},
   "outputs": [],
   "source": [
    "import numpy as np"
   ]
  },
  {
   "cell_type": "code",
   "execution_count": 48,
   "metadata": {
    "tags": []
   },
   "outputs": [
    {
     "output_type": "execute_result",
     "data": {
      "text/plain": "'grid = [[5., 3., 0., 0., 7., 0., 0., 0., 0.],\\n        [6., 0., 0., 1., 9., 5., 0., 0., 0.],\\n        [0., 9., 8., 0., 0., 0., 0., 6., 0.],\\n        [8., 0., 0., 0., 6., 0., 0., 0., 3.],\\n        [4., 0., 0., 6., 0., 0., 0., 0., 3.],\\n        [7., 0., 0., 0., 2., 0., 0., 0., 6.],\\n        [0., 6., 0., 0., 0., 0., 2., 8., 0.],\\n        [0., 0., 0., 4., 1., 9., 0., 0., 5.],\\n        [0., 0., 0., 0., 8., 0., 0., 7., 9.]]\\n\\ngrid = np.matrix(grid)'"
     },
     "metadata": {},
     "execution_count": 48
    }
   ],
   "source": [
    "'''grid = [[5., 3., 0., 0., 7., 0., 0., 0., 0.],\n",
    "        [6., 0., 0., 1., 9., 5., 0., 0., 0.],\n",
    "        [0., 9., 8., 0., 0., 0., 0., 6., 0.],\n",
    "        [8., 0., 0., 0., 6., 0., 0., 0., 3.],\n",
    "        [4., 0., 0., 6., 0., 0., 0., 0., 3.],\n",
    "        [7., 0., 0., 0., 2., 0., 0., 0., 6.],\n",
    "        [0., 6., 0., 0., 0., 0., 2., 8., 0.],\n",
    "        [0., 0., 0., 4., 1., 9., 0., 0., 5.],\n",
    "        [0., 0., 0., 0., 8., 0., 0., 7., 9.]]\n",
    "\n",
    "grid = np.matrix(grid)'''"
   ]
  },
  {
   "cell_type": "code",
   "execution_count": 21,
   "metadata": {},
   "outputs": [],
   "source": [
    "grid = np.zeros([9,9])"
   ]
  },
  {
   "cell_type": "code",
   "execution_count": 29,
   "metadata": {
    "tags": []
   },
   "outputs": [
    {
     "output_type": "stream",
     "name": "stdout",
     "text": "[[5. 3. 0. 0. 7. 0. 0. 0. 0.]\n [6. 0. 0. 1. 9. 5. 0. 0. 0.]\n [0. 9. 8. 0. 0. 0. 0. 6. 0.]\n [8. 0. 0. 0. 6. 0. 0. 0. 3.]\n [4. 0. 0. 6. 0. 0. 0. 0. 3.]\n [7. 0. 0. 0. 2. 0. 0. 0. 6.]\n [0. 6. 0. 0. 0. 0. 2. 8. 0.]\n [0. 0. 0. 4. 1. 9. 0. 0. 5.]\n [0. 0. 0. 0. 8. 0. 0. 7. 9.]]\n"
    }
   ],
   "source": [
    "for i in range(0,9):\n",
    "    for j in range(0,9):\n",
    "        grid[i][j] = input(\"Insert the value in {} and {}\".format(i+1,j+1))\n",
    "\n",
    "print(grid)    \n",
    "        "
   ]
  },
  {
   "cell_type": "code",
   "execution_count": 31,
   "metadata": {},
   "outputs": [
    {
     "output_type": "execute_result",
     "data": {
      "text/plain": "array([[5., 3., 0., 0., 7., 0., 0., 0., 0.],\n       [6., 0., 0., 1., 9., 5., 0., 0., 0.],\n       [0., 9., 8., 0., 0., 0., 0., 6., 0.],\n       [8., 0., 0., 0., 6., 0., 0., 0., 3.],\n       [4., 0., 0., 8., 0., 3., 0., 0., 1.],\n       [7., 0., 0., 0., 2., 0., 0., 0., 6.],\n       [0., 6., 0., 0., 0., 0., 2., 8., 0.],\n       [0., 0., 0., 4., 1., 9., 0., 0., 5.],\n       [0., 0., 0., 0., 8., 0., 0., 7., 9.]])"
     },
     "metadata": {},
     "execution_count": 31
    }
   ],
   "source": [
    "grid"
   ]
  },
  {
   "cell_type": "code",
   "execution_count": 32,
   "metadata": {},
   "outputs": [],
   "source": [
    "def possible(y,x,n):\n",
    "    global grid\n",
    "    for i in range(0,9):\n",
    "        if grid[y][i] == n:\n",
    "            return False\n",
    "    for i in range(0,9): \n",
    "        if grid[i][x] == n:\n",
    "            return False\n",
    "    x0 = (x//3) * 3\n",
    "    y0 = (y//3) * 3\n",
    "    for i in range(0,3):\n",
    "        for j in range(3):\n",
    "            if grid[y0 + i][x0 + j] == n:\n",
    "                return False\n",
    "    return True \n"
   ]
  },
  {
   "cell_type": "code",
   "execution_count": 37,
   "metadata": {},
   "outputs": [
    {
     "output_type": "execute_result",
     "data": {
      "text/plain": "True"
     },
     "metadata": {},
     "execution_count": 37
    }
   ],
   "source": [
    "possible(4,4,5) "
   ]
  },
  {
   "cell_type": "code",
   "execution_count": 38,
   "metadata": {},
   "outputs": [],
   "source": [
    "def solve():\n",
    "    global grid\n",
    "    for y in range(9):\n",
    "        for x in range(9):\n",
    "            if grid[y][x] == 0:\n",
    "                for n in range(1,10):\n",
    "                    if possible(y,x,n):\n",
    "                        grid[y][x] = n\n",
    "                        solve()\n",
    "                        grid[y][x] = 0\n",
    "                return\n",
    "    print(grid)\n",
    "    input(\"More ? \")\n",
    "            "
   ]
  },
  {
   "cell_type": "code",
   "execution_count": 39,
   "metadata": {
    "tags": []
   },
   "outputs": [
    {
     "output_type": "stream",
     "name": "stdout",
     "text": "[[5. 3. 4. 6. 7. 8. 9. 1. 2.]\n [6. 7. 2. 1. 9. 5. 3. 4. 8.]\n [1. 9. 8. 3. 4. 2. 5. 6. 7.]\n [8. 5. 9. 7. 6. 1. 4. 2. 3.]\n [4. 2. 6. 8. 5. 3. 7. 9. 1.]\n [7. 1. 3. 9. 2. 4. 8. 5. 6.]\n [9. 6. 1. 5. 3. 7. 2. 8. 4.]\n [2. 8. 7. 4. 1. 9. 6. 3. 5.]\n [3. 4. 5. 2. 8. 6. 1. 7. 9.]]\n"
    }
   ],
   "source": [
    "solve()"
   ]
  },
  {
   "cell_type": "code",
   "execution_count": null,
   "metadata": {},
   "outputs": [],
   "source": []
  }
 ]
}